{
 "cells": [
  {
   "cell_type": "code",
   "execution_count": 1,
   "metadata": {},
   "outputs": [],
   "source": [
    "import spacy"
   ]
  },
  {
   "cell_type": "code",
   "execution_count": 2,
   "metadata": {},
   "outputs": [],
   "source": [
    "nlp = spacy.load('en')"
   ]
  },
  {
   "cell_type": "code",
   "execution_count": 3,
   "metadata": {},
   "outputs": [
    {
     "name": "stdout",
     "output_type": "stream",
     "text": [
      "Taylor Alison Swift PERSON\n",
      "December 13, 1989 DATE\n",
      "American NORP\n"
     ]
    }
   ],
   "source": [
    "str = u\"Taylor Alison Swift (born December 13, 1989) is an American singer-songwriter. Her narrative songwriting, which often centers around her personal life, has received widespread critical plaudits and media coverage.\"\n",
    "doc = nlp(str)\n",
    "\n",
    "for ent in doc.ents:\n",
    "    print(ent.text, ent.label_)"
   ]
  },
  {
   "cell_type": "code",
   "execution_count": 6,
   "metadata": {},
   "outputs": [
    {
     "name": "stdout",
     "output_type": "stream",
     "text": [
      "Taeyeon ORG\n",
      "March 9, 1989, DATE\n",
      "Jeonju GPE\n",
      "South Korea GPE\n",
      "Kim Hayeon PERSON\n",
      "2020 DATE\n",
      "Taeyeon ORG\n",
      "her second year DATE\n",
      "Taeyeon ORG\n",
      "SM Academy ORG\n",
      "SM Entertainment ORG\n",
      "Taeyeon ORG\n",
      "Taeyeon ORG\n",
      "the next year DATE\n",
      "Taeyeon ORG\n",
      "Seoul GPE\n",
      "every Sunday DATE\n",
      "BoA PERSON\n",
      "Whitney Houston PERSON\n",
      "Utada Hikaru ORG\n"
     ]
    }
   ],
   "source": [
    "str = u\"Taeyeon was born on March 9, 1989, in Jeonju, South Korea. Her family consists of her parents, an older brother, and a younger sister Kim Hayeon, who made her solo debut in 2020. Having believed that she was \\\"only talented\\\" at singing, Taeyeon harbored the dream of becoming a singer at a young age. During her second year in middle school, Taeyeon accompanied her father to SM Academy (a former music institution and auxiliary affiliation of SM Entertainment), to pursue vocal lessons. Although at the time her father did not encourage Taeyeon to become an entertainer, he was persuaded by the school's principal to give his daughter a chance after she recognized Taeyeon's \\\"clean\\\" voice. During the next year, Taeyeon accompanied her father from their hometown to Seoul on every Sunday to receive her vocal lessons from The One. She named BoA, Whitney Houston and Utada Hikaru as her pre-debut inspirations.\"\n",
    "doc = nlp(str)\n",
    "\n",
    "for ent in doc.ents:\n",
    "    print(ent.text, ent.label_)"
   ]
  },
  {
   "cell_type": "code",
   "execution_count": null,
   "metadata": {},
   "outputs": [],
   "source": []
  }
 ],
 "metadata": {
  "kernelspec": {
   "display_name": "Python 3",
   "language": "python",
   "name": "python3"
  },
  "language_info": {
   "codemirror_mode": {
    "name": "ipython",
    "version": 3
   },
   "file_extension": ".py",
   "mimetype": "text/x-python",
   "name": "python",
   "nbconvert_exporter": "python",
   "pygments_lexer": "ipython3",
   "version": "3.7.6"
  }
 },
 "nbformat": 4,
 "nbformat_minor": 4
}
