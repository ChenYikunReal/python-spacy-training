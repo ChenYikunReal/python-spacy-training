{
 "cells": [
  {
   "cell_type": "code",
   "execution_count": 1,
   "metadata": {},
   "outputs": [],
   "source": [
    "import spacy"
   ]
  },
  {
   "cell_type": "code",
   "execution_count": 2,
   "metadata": {},
   "outputs": [],
   "source": [
    "nlp = spacy.load('en')"
   ]
  },
  {
   "cell_type": "code",
   "execution_count": 4,
   "metadata": {},
   "outputs": [],
   "source": [
    "from spacy.lang.en.stop_words import STOP_WORDS"
   ]
  },
  {
   "cell_type": "code",
   "execution_count": 5,
   "metadata": {},
   "outputs": [
    {
     "name": "stdout",
     "output_type": "stream",
     "text": [
      "{'sixty', 'she', 'too', 'whereupon', 'your', 'yourselves', 'go', 'between', 'other', 'say', 'could', 'seem', 'them', 'eleven', 'otherwise', 'ca', 'whatever', 'if', 'neither', 'always', 'has', 'him', 'us', 'what', 'wherein', 'now', 'full', 'only', 'sometimes', 'latter', 'against', 'somewhere', 'please', 'call', 'elsewhere', 'seemed', 'anyhow', 'alone', 'really', 'over', 'all', 'a', 'nothing', 'side', 'ever', 'along', 'unless', 'although', 'mostly', 'the', 'whether', 'whole', 'latterly', 'myself', 'was', 'and', 'does', 'itself', 'becomes', 'whom', 'yourself', 're', 'keep', 'have', 'namely', 'not', 'still', 'mine', 'within', 'without', 'through', 'whoever', 'often', 'five', 'an', 'after', 'above', 'meanwhile', 'anything', 'might', 'be', 'yet', 'wherever', 'our', 'very', 'nobody', 'whose', 'make', 'take', 'both', 'give', 'its', 'move', 'out', 'i', 'everywhere', 'never', 'much', 'whence', 'is', 'therein', 'each', 'put', 'used', 'empty', 'formerly', 'how', 'just', 'one', 'would', 'various', 'where', 'here', 'beforehand', 'it', 'should', 'afterwards', 'four', 'while', 'hereby', 'further', 'during', 'twelve', 'who', 'hers', 'else', 'herein', 'thence', 'due', 'again', 'quite', 'most', 'are', 'however', 'hereupon', 'made', 'among', 'cannot', 'seeming', 'least', 'almost', 'already', 'per', 'from', 'either', 'so', 'his', 'thereby', 'eight', 'for', 'their', 'toward', 'something', 'since', 'did', 'doing', 'last', 'everyone', 'more', 'no', 'they', 'why', 'around', 'once', 'serious', 'about', 'we', 'nor', 'enough', 'were', 'whereas', 'across', 'another', 'which', 'whither', 'onto', 'with', 'somehow', 'regarding', 'those', 'own', 'yours', 'beside', 'behind', 'thereafter', 'am', 'beyond', 'whereby', 'besides', 'show', 'thereupon', 'noone', 'when', 'whereafter', 'as', 'also', 'former', 'indeed', 'before', 'below', 'on', 'though', 'will', 'first', 'had', 'may', 'part', 'amount', 'two', 'every', 'anyway', 'six', 'these', 'many', 'or', 'throughout', 'thru', 'using', 'well', 'everything', 'being', 'into', 'then', 'you', 'me', 'except', 'three', 'some', 'under', 'became', 'in', 'can', 'themselves', 'by', 'ten', 'such', 'himself', 'there', 'forty', 'becoming', 'same', 'any', 'but', 'do', 'must', 'my', 'perhaps', 'rather', 'whenever', 'seems', 'hence', 'several', 'nine', 'this', 'to', 'nowhere', 'anyone', 'at', 'get', 'less', 'nevertheless', 'someone', 'thus', 'he', 'become', 'name', 'amongst', 'than', 'until', 'few', 'top', 'fifteen', 'of', 'therefore', 'towards', 'off', 'back', 'been', 'anywhere', 'upon', 'even', 'none', 'next', 'because', 'sometime', 'third', 'herself', 'together', 'up', 'twenty', 'see', 'down', 'ourselves', 'others', 'fifty', 'hundred', 'hereafter', 'moreover', 'ours', 'done', 'that', 'her', 'front', 'via', 'bottom'}\n"
     ]
    }
   ],
   "source": [
    "print(STOP_WORDS)"
   ]
  },
  {
   "cell_type": "code",
   "execution_count": 6,
   "metadata": {},
   "outputs": [
    {
     "data": {
      "text/plain": [
       "True"
      ]
     },
     "execution_count": 6,
     "metadata": {},
     "output_type": "execute_result"
    }
   ],
   "source": [
    "nlp.vocab[u'is'].is_stop"
   ]
  },
  {
   "cell_type": "code",
   "execution_count": 7,
   "metadata": {},
   "outputs": [
    {
     "data": {
      "text/plain": [
       "False"
      ]
     },
     "execution_count": 7,
     "metadata": {},
     "output_type": "execute_result"
    }
   ],
   "source": [
    "nlp.vocab[u'hello'].is_stop"
   ]
  },
  {
   "cell_type": "code",
   "execution_count": 8,
   "metadata": {},
   "outputs": [
    {
     "data": {
      "text/plain": [
       "True"
      ]
     },
     "execution_count": 8,
     "metadata": {},
     "output_type": "execute_result"
    }
   ],
   "source": [
    "nlp.vocab[u'with'].is_stop"
   ]
  },
  {
   "cell_type": "code",
   "execution_count": 9,
   "metadata": {},
   "outputs": [
    {
     "data": {
      "text/plain": [
       "True"
      ]
     },
     "execution_count": 9,
     "metadata": {},
     "output_type": "execute_result"
    }
   ],
   "source": [
    "nlp.vocab[u'and'].is_stop"
   ]
  },
  {
   "cell_type": "code",
   "execution_count": 10,
   "metadata": {},
   "outputs": [
    {
     "data": {
      "text/plain": [
       "False"
      ]
     },
     "execution_count": 10,
     "metadata": {},
     "output_type": "execute_result"
    }
   ],
   "source": [
    "nlp.vocab[u'fuck'].is_stop"
   ]
  },
  {
   "cell_type": "code",
   "execution_count": null,
   "metadata": {},
   "outputs": [],
   "source": []
  }
 ],
 "metadata": {
  "kernelspec": {
   "display_name": "Python 3",
   "language": "python",
   "name": "python3"
  },
  "language_info": {
   "codemirror_mode": {
    "name": "ipython",
    "version": 3
   },
   "file_extension": ".py",
   "mimetype": "text/x-python",
   "name": "python",
   "nbconvert_exporter": "python",
   "pygments_lexer": "ipython3",
   "version": "3.7.6"
  }
 },
 "nbformat": 4,
 "nbformat_minor": 4
}
